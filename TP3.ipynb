{
  "nbformat": 4,
  "nbformat_minor": 0,
  "metadata": {
    "colab": {
      "provenance": [],
      "authorship_tag": "ABX9TyNRnOQYg2g6Q4VC/uNHbQeH",
      "include_colab_link": true
    },
    "kernelspec": {
      "name": "python3",
      "display_name": "Python 3"
    },
    "language_info": {
      "name": "python"
    }
  },
  "cells": [
    {
      "cell_type": "markdown",
      "metadata": {
        "id": "view-in-github",
        "colab_type": "text"
      },
      "source": [
        "<a href=\"https://colab.research.google.com/github/KubX44/Tp-Spark-SQL/blob/main/TP3.ipynb\" target=\"_parent\"><img src=\"https://colab.research.google.com/assets/colab-badge.svg\" alt=\"Open In Colab\"/></a>"
      ]
    },
    {
      "cell_type": "markdown",
      "source": [
        "Sous Google Colab, installer pyspark :"
      ],
      "metadata": {
        "id": "KTo0-H7P7NKY"
      }
    },
    {
      "cell_type": "code",
      "source": [
        "! pip install pyspark"
      ],
      "metadata": {
        "colab": {
          "base_uri": "https://localhost:8080/"
        },
        "id": "cBDtvJF77PFV",
        "outputId": "f08b1d9f-00ad-4104-f3f4-ccb178ace6f0"
      },
      "execution_count": 1,
      "outputs": [
        {
          "output_type": "stream",
          "name": "stdout",
          "text": [
            "Collecting pyspark\n",
            "  Downloading pyspark-3.5.0.tar.gz (316.9 MB)\n",
            "\u001b[2K     \u001b[90m━━━━━━━━━━━━━━━━━━━━━━━━━━━━━━━━━━━━━━━━\u001b[0m \u001b[32m316.9/316.9 MB\u001b[0m \u001b[31m4.6 MB/s\u001b[0m eta \u001b[36m0:00:00\u001b[0m\n",
            "\u001b[?25h  Preparing metadata (setup.py) ... \u001b[?25l\u001b[?25hdone\n",
            "Requirement already satisfied: py4j==0.10.9.7 in /usr/local/lib/python3.10/dist-packages (from pyspark) (0.10.9.7)\n",
            "Building wheels for collected packages: pyspark\n",
            "  Building wheel for pyspark (setup.py) ... \u001b[?25l\u001b[?25hdone\n",
            "  Created wheel for pyspark: filename=pyspark-3.5.0-py2.py3-none-any.whl size=317425344 sha256=9ca8827e57f240b089171b4ba633fe363382bad3f013dc500c029bdfcd66a5fc\n",
            "  Stored in directory: /root/.cache/pip/wheels/41/4e/10/c2cf2467f71c678cfc8a6b9ac9241e5e44a01940da8fbb17fc\n",
            "Successfully built pyspark\n",
            "Installing collected packages: pyspark\n",
            "Successfully installed pyspark-3.5.0\n"
          ]
        }
      ]
    },
    {
      "cell_type": "markdown",
      "source": [
        "1) Créer un Dataframe à partir du fichier ngram.csv :"
      ],
      "metadata": {
        "id": "bJVhi2pa7gmc"
      }
    },
    {
      "cell_type": "code",
      "source": [
        "from pyspark import SparkConf, SparkContext, SQLContext\n",
        "from pyspark.sql.functions import *\n",
        "from pyspark.sql import Row\n",
        "\n",
        "appname = \"tp3\"\n",
        "config = SparkConf().setAppName(appname)\n",
        "sparkcontext = SparkContext.getOrCreate();\n",
        "sqlContext = SQLContext(sparkcontext)\n",
        "\n",
        "lines = sparkcontext.textFile(\"/content/ngram.csv\")\n",
        "parts = lines.map(lambda l: l.split(\"\\t\"))\n",
        "ngrams = parts.map(lambda x: Row(ngram=x[0], year=int(x[1]), count=int(x[2]), pages=int(x[3]), books=int(x[4])))\n",
        "schema = sqlContext.createDataFrame(ngrams)"
      ],
      "metadata": {
        "colab": {
          "base_uri": "https://localhost:8080/"
        },
        "id": "hZfUAzdA7hm5",
        "outputId": "30fa8212-84cb-4c97-95b2-eb394d358a81"
      },
      "execution_count": 8,
      "outputs": [
        {
          "output_type": "stream",
          "name": "stderr",
          "text": [
            "/usr/local/lib/python3.10/dist-packages/pyspark/sql/context.py:113: FutureWarning: Deprecated in 3.0.0. Use SparkSession.builder.getOrCreate() instead.\n",
            "  warnings.warn(\n"
          ]
        }
      ]
    },
    {
      "cell_type": "markdown",
      "source": [
        "2) Enregistrer le Dataframe créé en tant que table temporaire.\n"
      ],
      "metadata": {
        "id": "nobt0-Xq8KBk"
      }
    },
    {
      "cell_type": "code",
      "source": [
        "schema.registerTempTable(\"ngrams\")"
      ],
      "metadata": {
        "colab": {
          "base_uri": "https://localhost:8080/"
        },
        "id": "1kbCNPVy8KyK",
        "outputId": "83f191b3-2524-49a7-bce9-286e49edc714"
      },
      "execution_count": 9,
      "outputs": [
        {
          "output_type": "stream",
          "name": "stderr",
          "text": [
            "/usr/local/lib/python3.10/dist-packages/pyspark/sql/dataframe.py:329: FutureWarning: Deprecated in 2.0, use createOrReplaceTempView instead.\n",
            "  warnings.warn(\"Deprecated in 2.0, use createOrReplaceTempView instead.\", FutureWarning)\n"
          ]
        }
      ]
    },
    {
      "cell_type": "markdown",
      "source": [
        "3.1) Retourner tous les bi-grammes dont le nombre Count est supérieur à cinq."
      ],
      "metadata": {
        "id": "dmSvxAJn8aQZ"
      }
    },
    {
      "cell_type": "code",
      "source": [
        "#SQL :\n",
        "req = sqlContext.sql(\"SELECT ngram FROM ngrams WHERE count > 5\")\n",
        "req.show()"
      ],
      "metadata": {
        "colab": {
          "base_uri": "https://localhost:8080/"
        },
        "id": "clkuccRl8bYe",
        "outputId": "c1e2d299-adc7-485a-ecd3-08ea2c177f88"
      },
      "execution_count": 11,
      "outputs": [
        {
          "output_type": "stream",
          "name": "stdout",
          "text": [
            "+--------+\n",
            "|   ngram|\n",
            "+--------+\n",
            "|! $17.95|\n",
            "|! $17.95|\n",
            "|! $17.95|\n",
            "|! $17.95|\n",
            "|! $17.95|\n",
            "|    ! 09|\n",
            "|    ! 09|\n",
            "|    ! 09|\n",
            "|    ! 09|\n",
            "|    ! 09|\n",
            "|    ! 09|\n",
            "|    ! 09|\n",
            "|    ! 09|\n",
            "+--------+\n",
            "\n"
          ]
        }
      ]
    },
    {
      "cell_type": "code",
      "source": [
        "#l’API SparkSQL :\n",
        "req = schema.filter(schema['count'] > 5).select('ngram')\n",
        "req.show()"
      ],
      "metadata": {
        "colab": {
          "base_uri": "https://localhost:8080/"
        },
        "id": "OSQT0oNA8r0P",
        "outputId": "f33b7179-501c-4674-f4ac-ebbeae3f547d"
      },
      "execution_count": 13,
      "outputs": [
        {
          "output_type": "stream",
          "name": "stdout",
          "text": [
            "+--------+\n",
            "|   ngram|\n",
            "+--------+\n",
            "|! $17.95|\n",
            "|! $17.95|\n",
            "|! $17.95|\n",
            "|! $17.95|\n",
            "|! $17.95|\n",
            "|    ! 09|\n",
            "|    ! 09|\n",
            "|    ! 09|\n",
            "|    ! 09|\n",
            "|    ! 09|\n",
            "|    ! 09|\n",
            "|    ! 09|\n",
            "|    ! 09|\n",
            "+--------+\n",
            "\n"
          ]
        }
      ]
    },
    {
      "cell_type": "markdown",
      "source": [
        "3.2) Retourner le nombre total de bi-grammes dans chaque année."
      ],
      "metadata": {
        "id": "5xEXxrza9U3t"
      }
    },
    {
      "cell_type": "code",
      "source": [
        "#SQL :\n",
        "req = sqlContext.sql(\"SELECT year, COUNT(*) AS cnt FROM ngrams GROUP BY year\")\n",
        "req.show()"
      ],
      "metadata": {
        "colab": {
          "base_uri": "https://localhost:8080/"
        },
        "id": "-2Ocs8oK9Xue",
        "outputId": "92e9b822-773d-47f6-b2b0-6285c9423d77"
      },
      "execution_count": 14,
      "outputs": [
        {
          "output_type": "stream",
          "name": "stdout",
          "text": [
            "+----+---+\n",
            "|year|cnt|\n",
            "+----+---+\n",
            "|1806|  1|\n",
            "|1840|  1|\n",
            "|1882|  1|\n",
            "|2007|  2|\n",
            "|1887|  1|\n",
            "|1991|  2|\n",
            "|1858|  1|\n",
            "|1833|  1|\n",
            "|1831|  1|\n",
            "|1987|  2|\n",
            "|1999|  2|\n",
            "|1997|  2|\n",
            "|1884|  1|\n",
            "|1845|  1|\n",
            "|1877|  1|\n",
            "|1829|  1|\n",
            "|1867|  1|\n",
            "|2006|  2|\n",
            "|1876|  1|\n",
            "|1879|  1|\n",
            "+----+---+\n",
            "only showing top 20 rows\n",
            "\n"
          ]
        }
      ]
    },
    {
      "cell_type": "code",
      "source": [
        "#l’API SparkSQL :\n",
        "req = schema.groupBy(\"year\").count()\n",
        "req.show()"
      ],
      "metadata": {
        "colab": {
          "base_uri": "https://localhost:8080/"
        },
        "id": "3pq826-N98Nt",
        "outputId": "a93e1509-9f99-4fe7-df51-a6d9512a1e49"
      },
      "execution_count": 15,
      "outputs": [
        {
          "output_type": "stream",
          "name": "stdout",
          "text": [
            "+----+-----+\n",
            "|year|count|\n",
            "+----+-----+\n",
            "|1806|    1|\n",
            "|1840|    1|\n",
            "|1882|    1|\n",
            "|2007|    2|\n",
            "|1887|    1|\n",
            "|1991|    2|\n",
            "|1858|    1|\n",
            "|1833|    1|\n",
            "|1831|    1|\n",
            "|1987|    2|\n",
            "|1999|    2|\n",
            "|1997|    2|\n",
            "|1884|    1|\n",
            "|1845|    1|\n",
            "|1877|    1|\n",
            "|1829|    1|\n",
            "|1867|    1|\n",
            "|2006|    2|\n",
            "|1876|    1|\n",
            "|1879|    1|\n",
            "+----+-----+\n",
            "only showing top 20 rows\n",
            "\n"
          ]
        }
      ]
    },
    {
      "cell_type": "markdown",
      "source": [
        "3.3) Retourner les bi-grammes qui ont le plus grand nombre de count dans chaque\n",
        "année."
      ],
      "metadata": {
        "id": "Zu2JIocT-Ec1"
      }
    },
    {
      "cell_type": "code",
      "source": [
        "#SQL :\n",
        "req = sqlContext.sql(\"SELECT ngram, year, MAX(count) AS maxCount FROM ngrams GROUP BY ngram, year\")\n",
        "req.show()"
      ],
      "metadata": {
        "colab": {
          "base_uri": "https://localhost:8080/"
        },
        "id": "SVhMWmWy-Gj_",
        "outputId": "6e249a3e-f205-4b8f-d109-92a7773ecd71"
      },
      "execution_count": 16,
      "outputs": [
        {
          "output_type": "stream",
          "name": "stdout",
          "text": [
            "+--------+----+--------+\n",
            "|   ngram|year|maxCount|\n",
            "+--------+----+--------+\n",
            "|    ! 09|1880|       2|\n",
            "|! $17.95|2008|       2|\n",
            "|    ! 09|1845|       1|\n",
            "|! $17.95|1995|       1|\n",
            "|! $17.95|2004|      14|\n",
            "|    ! 09|1780|       1|\n",
            "|    ! 09|1833|       1|\n",
            "|! $17.95|2007|       2|\n",
            "|    ! 09|1872|       1|\n",
            "|    ! 09|1861|       1|\n",
            "|    ! 09|1806|       1|\n",
            "|    ! 09|1882|       2|\n",
            "|! $17.95|2001|       5|\n",
            "|    ! 09|1881|       3|\n",
            "|    ! 09|1884|       5|\n",
            "|    ! 09|1823|       1|\n",
            "|    ! 09|1848|       1|\n",
            "|    ! 09|1887|       1|\n",
            "|    ! 09|1803|       1|\n",
            "|    ! 09|1877|       2|\n",
            "+--------+----+--------+\n",
            "only showing top 20 rows\n",
            "\n"
          ]
        }
      ]
    },
    {
      "cell_type": "code",
      "source": [
        "#l’API SparkSQL :\n",
        "req = schema.groupBy(\"ngram\", \"Year\").max(\"count\")\n",
        "req.show()"
      ],
      "metadata": {
        "colab": {
          "base_uri": "https://localhost:8080/"
        },
        "id": "-hkhF7Yr-TtV",
        "outputId": "3b76889f-9fe2-4264-e357-45dee63d0e71"
      },
      "execution_count": 18,
      "outputs": [
        {
          "output_type": "stream",
          "name": "stdout",
          "text": [
            "+--------+----+----------+\n",
            "|   ngram|Year|max(count)|\n",
            "+--------+----+----------+\n",
            "|    ! 09|1880|         2|\n",
            "|! $17.95|2008|         2|\n",
            "|    ! 09|1845|         1|\n",
            "|! $17.95|1995|         1|\n",
            "|! $17.95|2004|        14|\n",
            "|    ! 09|1780|         1|\n",
            "|    ! 09|1833|         1|\n",
            "|! $17.95|2007|         2|\n",
            "|    ! 09|1872|         1|\n",
            "|    ! 09|1861|         1|\n",
            "|    ! 09|1806|         1|\n",
            "|    ! 09|1882|         2|\n",
            "|! $17.95|2001|         5|\n",
            "|    ! 09|1881|         3|\n",
            "|    ! 09|1884|         5|\n",
            "|    ! 09|1823|         1|\n",
            "|    ! 09|1848|         1|\n",
            "|    ! 09|1887|         1|\n",
            "|    ! 09|1803|         1|\n",
            "|    ! 09|1877|         2|\n",
            "+--------+----+----------+\n",
            "only showing top 20 rows\n",
            "\n"
          ]
        }
      ]
    },
    {
      "cell_type": "markdown",
      "source": [
        "3.4) Retourner tous les bi-grammes qui sont apparus dans 20 années différentes"
      ],
      "metadata": {
        "id": "3-mXCb1R-fbR"
      }
    },
    {
      "cell_type": "code",
      "source": [
        "#SQL :\n",
        "req = sqlContext.sql(\"SELECT ngram FROM ngrams GROUP BY ngram HAVING COUNT(DISTINCT Year) = 20\").show()"
      ],
      "metadata": {
        "colab": {
          "base_uri": "https://localhost:8080/"
        },
        "id": "2m4sGqST-gGT",
        "outputId": "d21d26e2-8eeb-4caa-b888-5d11dacf71a9"
      },
      "execution_count": 19,
      "outputs": [
        {
          "output_type": "stream",
          "name": "stdout",
          "text": [
            "+--------+\n",
            "|   ngram|\n",
            "+--------+\n",
            "|! $17.95|\n",
            "+--------+\n",
            "\n"
          ]
        }
      ]
    },
    {
      "cell_type": "code",
      "source": [
        "#l’API SparkSQL :\n",
        "result = schema.groupBy(\"ngram\").agg(\n",
        "    countDistinct(\"Year\").alias(\"NumYears\")\n",
        ").filter(\"NumYears = 20\").select(\"ngram\").show()"
      ],
      "metadata": {
        "colab": {
          "base_uri": "https://localhost:8080/"
        },
        "id": "ud8jc_Fv-r3F",
        "outputId": "859665fd-a199-4669-80b9-f3215a2e03b5"
      },
      "execution_count": 20,
      "outputs": [
        {
          "output_type": "stream",
          "name": "stdout",
          "text": [
            "+--------+\n",
            "|   ngram|\n",
            "+--------+\n",
            "|! $17.95|\n",
            "+--------+\n",
            "\n"
          ]
        }
      ]
    },
    {
      "cell_type": "markdown",
      "source": [
        "3.5) Retourner tous les bi-grammes qui contiennent le caractère ‘!’ dans la première\n",
        "partie et le caractère ‘9’ dans la deuxième partie (les deux parties sont séparées par\n",
        "un espace)."
      ],
      "metadata": {
        "id": "tSkGYca0-0CM"
      }
    },
    {
      "cell_type": "code",
      "source": [
        "#SQL :\n",
        "sqlContext.sql(\"SELECT distinct ngram FROM ngrams WHERE ngram LIKE '%!% %' AND ngram LIKE '% %9%'\").show()"
      ],
      "metadata": {
        "colab": {
          "base_uri": "https://localhost:8080/"
        },
        "id": "Ft_f6T6q-0gu",
        "outputId": "47253e37-1c9b-42cf-d73c-8b67c21e9805"
      },
      "execution_count": 21,
      "outputs": [
        {
          "output_type": "stream",
          "name": "stdout",
          "text": [
            "+--------+\n",
            "|   ngram|\n",
            "+--------+\n",
            "|    ! 09|\n",
            "|! $17.95|\n",
            "+--------+\n",
            "\n"
          ]
        }
      ]
    },
    {
      "cell_type": "code",
      "source": [
        "#l’API SparkSQL :\n",
        "schema.filter((col(\"ngram\").like(\"%!% %\")) & (col(\"ngram\").like(\"% %9%\"))).select(\"ngram\").distinct().show()"
      ],
      "metadata": {
        "colab": {
          "base_uri": "https://localhost:8080/"
        },
        "id": "39rXdsOp_BXQ",
        "outputId": "af21ca0c-7ce1-4635-f530-babfaca47f3e"
      },
      "execution_count": 22,
      "outputs": [
        {
          "output_type": "stream",
          "name": "stdout",
          "text": [
            "+--------+\n",
            "|   ngram|\n",
            "+--------+\n",
            "|    ! 09|\n",
            "|! $17.95|\n",
            "+--------+\n",
            "\n"
          ]
        }
      ]
    },
    {
      "cell_type": "markdown",
      "source": [
        "3.6) Retourner les bi-grammes qui sont apparus dans toutes les années présentes\n",
        "dans les données."
      ],
      "metadata": {
        "id": "p_adfjDJ_HaJ"
      }
    },
    {
      "cell_type": "code",
      "source": [
        "#SQL :\n",
        "sqlContext.sql(\"SELECT ngram FROM ngrams GROUP BY ngram HAVING COUNT(DISTINCT Year) = (SELECT COUNT(DISTINCT Year) FROM ngrams)\").show()"
      ],
      "metadata": {
        "colab": {
          "base_uri": "https://localhost:8080/"
        },
        "id": "APcdxiSK_JY6",
        "outputId": "1b91499c-6f15-4a19-cb9f-6fcb0eb274da"
      },
      "execution_count": 23,
      "outputs": [
        {
          "output_type": "stream",
          "name": "stdout",
          "text": [
            "+-----+\n",
            "|ngram|\n",
            "+-----+\n",
            "| ! 09|\n",
            "+-----+\n",
            "\n"
          ]
        }
      ]
    },
    {
      "cell_type": "code",
      "source": [
        "#l’API SparkSQL :\n",
        "distinct_years = schema.select(\"Year\").distinct().count()\n",
        "\n",
        "result = schema.groupBy(\"ngram\").agg(countDistinct(\"Year\").alias(\"distinct_years\")) \\\n",
        "    .filter(\"distinct_years = {}\".format(distinct_years)) \\\n",
        "    .select(\"ngram\").show()"
      ],
      "metadata": {
        "colab": {
          "base_uri": "https://localhost:8080/"
        },
        "id": "2DHa_5T9_Q8b",
        "outputId": "9a09269d-12ec-4d9e-e626-b7ab7d79bb4e"
      },
      "execution_count": 24,
      "outputs": [
        {
          "output_type": "stream",
          "name": "stdout",
          "text": [
            "+-----+\n",
            "|ngram|\n",
            "+-----+\n",
            "| ! 09|\n",
            "+-----+\n",
            "\n"
          ]
        }
      ]
    },
    {
      "cell_type": "markdown",
      "source": [
        "3.7) Retourner le nombre total de pages et de livres dans lesquels chaque bigramme apparaît pour chaque année disponible, trié par ordre alphabétique."
      ],
      "metadata": {
        "id": "58dqNXLX_YIS"
      }
    },
    {
      "cell_type": "code",
      "source": [
        "#SQL :\n",
        "sqlContext.sql(\"SELECT Year, ngram, SUM(Pages) AS TotalPages, SUM(Books) AS TotalBooks FROM ngrams GROUP BY Year, ngram ORDER BY ngram ASC\").show()"
      ],
      "metadata": {
        "colab": {
          "base_uri": "https://localhost:8080/"
        },
        "id": "X70-WTXo_Y9C",
        "outputId": "42f791a2-c5bd-4f4a-ac5b-c0f1d3cd76b3"
      },
      "execution_count": 25,
      "outputs": [
        {
          "output_type": "stream",
          "name": "stdout",
          "text": [
            "+----+--------+----------+----------+\n",
            "|Year|   ngram|TotalPages|TotalBooks|\n",
            "+----+--------+----------+----------+\n",
            "|1998|! $17.95|         3|         3|\n",
            "|1992|! $17.95|         5|         5|\n",
            "|1995|! $17.95|         1|         1|\n",
            "|1997|! $17.95|         5|         5|\n",
            "|1993|! $17.95|         2|         2|\n",
            "|1987|! $17.95|         1|         1|\n",
            "|1985|! $17.95|         1|         1|\n",
            "|1991|! $17.95|         1|         1|\n",
            "|1990|! $17.95|         1|         1|\n",
            "|2007|! $17.95|         2|         2|\n",
            "|2004|! $17.95|        14|        14|\n",
            "|1996|! $17.95|         2|         2|\n",
            "|2005|! $17.95|        13|        13|\n",
            "|2001|! $17.95|         4|         4|\n",
            "|2003|! $17.95|         2|         2|\n",
            "|1999|! $17.95|        10|        10|\n",
            "|2006|! $17.95|         5|         5|\n",
            "|2008|! $17.95|         2|         2|\n",
            "|2000|! $17.95|         9|         9|\n",
            "|2002|! $17.95|         5|         5|\n",
            "+----+--------+----------+----------+\n",
            "only showing top 20 rows\n",
            "\n"
          ]
        }
      ]
    },
    {
      "cell_type": "code",
      "source": [
        "#l’API SparkSQL :\n",
        "result = (schema\n",
        "    .groupBy(\"Year\", \"ngram\")\n",
        "    .agg(sum(\"Pages\").alias(\"TotalPages\"), sum(\"Books\").alias(\"TotalBooks\"))\n",
        "    .orderBy(\"ngram\")\n",
        ")\n",
        "result.show()"
      ],
      "metadata": {
        "colab": {
          "base_uri": "https://localhost:8080/"
        },
        "id": "dC6NvUzd_e6a",
        "outputId": "1a9b2354-aa5d-4278-8085-7961686a87c1"
      },
      "execution_count": 27,
      "outputs": [
        {
          "output_type": "stream",
          "name": "stdout",
          "text": [
            "+----+--------+----------+----------+\n",
            "|Year|   ngram|TotalPages|TotalBooks|\n",
            "+----+--------+----------+----------+\n",
            "|1998|! $17.95|         3|         3|\n",
            "|1992|! $17.95|         5|         5|\n",
            "|1995|! $17.95|         1|         1|\n",
            "|1997|! $17.95|         5|         5|\n",
            "|1993|! $17.95|         2|         2|\n",
            "|1987|! $17.95|         1|         1|\n",
            "|1985|! $17.95|         1|         1|\n",
            "|1991|! $17.95|         1|         1|\n",
            "|1990|! $17.95|         1|         1|\n",
            "|2007|! $17.95|         2|         2|\n",
            "|2004|! $17.95|        14|        14|\n",
            "|1996|! $17.95|         2|         2|\n",
            "|2005|! $17.95|        13|        13|\n",
            "|2001|! $17.95|         4|         4|\n",
            "|2003|! $17.95|         2|         2|\n",
            "|1999|! $17.95|        10|        10|\n",
            "|2006|! $17.95|         5|         5|\n",
            "|2008|! $17.95|         2|         2|\n",
            "|2000|! $17.95|         9|         9|\n",
            "|2002|! $17.95|         5|         5|\n",
            "+----+--------+----------+----------+\n",
            "only showing top 20 rows\n",
            "\n"
          ]
        }
      ]
    }
  ]
}